{
 "cells": [
  {
   "cell_type": "code",
   "execution_count": 1,
   "metadata": {
    "collapsed": true
   },
   "outputs": [],
   "source": [
    "import pandas as pd\n",
    "import datetime\n",
    "import numpy as np\n",
    "from pandas_datareader import data as web\n",
    "from matplotlib import pyplot as pp"
   ]
  },
  {
   "cell_type": "code",
   "execution_count": 8,
   "metadata": {
    "collapsed": true
   },
   "outputs": [],
   "source": [
    "zscore = lambda x:(x -x.mean())/x.std() # zscore: normalization of log returns"
   ]
  },
  {
   "cell_type": "code",
   "execution_count": 9,
   "metadata": {
    "collapsed": true
   },
   "outputs": [],
   "source": [
    "start = datetime.datetime(2012,1,1)\n",
    "end = datetime.datetime(2016,1,1)"
   ]
  },
  {
   "cell_type": "code",
   "execution_count": 10,
   "metadata": {
    "collapsed": true
   },
   "outputs": [],
   "source": [
    "df = web.DataReader(\"GOOGL\", \"google\", start, end)"
   ]
  },
  {
   "cell_type": "code",
   "execution_count": 11,
   "metadata": {},
   "outputs": [],
   "source": [
    "def _load_data(data, n_prev):  \n",
    "    \"\"\"\n",
    "    data should be pd.DataFrame()\n",
    "    \"\"\"\n",
    "\n",
    "    docX, docY = [], []\n",
    "    for i in range(len(data)-n_prev):\n",
    "        zscore(data.iloc[i:i+n_prev+1])\n",
    "        docX.append(zscore(data.iloc[i:i+n_prev]).as_matrix())\n",
    "        docY.append(zscore(data.iloc[i:i+n_prev+1]).Close[30])\n",
    "    alsX = np.array(docX)\n",
    "    alsY = np.array(docY)\n",
    "    \n",
    "    return alsX, alsY\n",
    "\n"
   ]
  },
  {
   "cell_type": "code",
   "execution_count": 12,
   "metadata": {},
   "outputs": [],
   "source": [
    "def train_test_split(df, test_size=0.1):  \n",
    "    \"\"\"\n",
    "    This just splits data to training and testing parts\n",
    "    \"\"\"\n",
    "    ntrn = int(round(len(df) * (1 - test_size)))\n",
    "\n",
    "    X_train, y_train = _load_data(df.iloc[0:ntrn],30)\n",
    "    X_test, y_test = _load_data(df.iloc[ntrn:],30)\n",
    "\n",
    "    return (X_train, y_train), (X_test, y_test)"
   ]
  },
  {
   "cell_type": "code",
   "execution_count": 13,
   "metadata": {},
   "outputs": [],
   "source": [
    "(X_train, y_train), (X_test, y_test) = train_test_split(df)"
   ]
  },
  {
   "cell_type": "code",
   "execution_count": 21,
   "metadata": {},
   "outputs": [
    {
     "name": "stdout",
     "output_type": "stream",
     "text": [
      "_________________________________________________________________\n",
      "Layer (type)                 Output Shape              Param #   \n",
      "=================================================================\n",
      "lstm_12 (LSTM)               (None, 300)               367200    \n",
      "_________________________________________________________________\n",
      "dropout_7 (Dropout)          (None, 300)               0         \n",
      "_________________________________________________________________\n",
      "dense_2 (Dense)              (None, 1)                 301       \n",
      "_________________________________________________________________\n",
      "activation_2 (Activation)    (None, 1)                 0         \n",
      "=================================================================\n",
      "Total params: 367,501\n",
      "Trainable params: 367,501\n",
      "Non-trainable params: 0\n",
      "_________________________________________________________________\n"
     ]
    }
   ],
   "source": [
    "from keras.models import Sequential  \n",
    "from keras.layers.core import Dense, Activation, Dropout \n",
    "from keras.layers.recurrent import LSTM\n",
    "\n",
    "\n",
    "hidden_neurons = 300\n",
    "\n",
    "model = Sequential()\n",
    "model.add(LSTM(300, input_shape=(30, 5), return_sequences=False))       \n",
    "model.add(Dropout(0.2))\n",
    "model.add(Dense(1))\n",
    "model.add(Activation(\"tanh\"))\n",
    "\n",
    "model.compile(loss=\"mean_squared_error\", optimizer=\"Adam\")  \n",
    "\n",
    "model.summary()"
   ]
  },
  {
   "cell_type": "code",
   "execution_count": 22,
   "metadata": {},
   "outputs": [
    {
     "name": "stdout",
     "output_type": "stream",
     "text": [
      "Train on 831 samples, validate on 44 samples\n",
      "Epoch 1/10\n",
      "831/831 [==============================] - 5s - loss: 1.0953 - val_loss: 2.4457\n",
      "Epoch 2/10\n",
      "831/831 [==============================] - 2s - loss: 0.7549 - val_loss: 2.0043\n",
      "Epoch 3/10\n",
      "831/831 [==============================] - 3s - loss: 0.6905 - val_loss: 1.9080\n",
      "Epoch 4/10\n",
      "831/831 [==============================] - 2s - loss: 0.6584 - val_loss: 1.8595\n",
      "Epoch 5/10\n",
      "831/831 [==============================] - 2s - loss: 0.6414 - val_loss: 1.8015\n",
      "Epoch 6/10\n",
      "831/831 [==============================] - 2s - loss: 0.6215 - val_loss: 1.7586\n",
      "Epoch 7/10\n",
      "831/831 [==============================] - 2s - loss: 0.6011 - val_loss: 1.7470\n",
      "Epoch 8/10\n",
      "831/831 [==============================] - 2s - loss: 0.5960 - val_loss: 1.7111\n",
      "Epoch 9/10\n",
      "831/831 [==============================] - 2s - loss: 0.5937 - val_loss: 1.7046\n",
      "Epoch 10/10\n",
      "831/831 [==============================] - 2s - loss: 0.5868 - val_loss: 1.6863\n"
     ]
    },
    {
     "data": {
      "text/plain": [
       "<keras.callbacks.History at 0x119a71fd0>"
      ]
     },
     "execution_count": 22,
     "metadata": {},
     "output_type": "execute_result"
    }
   ],
   "source": [
    "model.fit(X_train, y_train, batch_size=100, epochs=10, validation_split=0.05)  "
   ]
  },
  {
   "cell_type": "code",
   "execution_count": 23,
   "metadata": {
    "collapsed": true
   },
   "outputs": [],
   "source": [
    "predicted = model.predict(X_test) "
   ]
  },
  {
   "cell_type": "code",
   "execution_count": 40,
   "metadata": {
    "scrolled": true
   },
   "outputs": [],
   "source": [
    "outcome = pd.DataFrame()\n",
    "outcome['actual'] = y_test\n",
    "outcome['predicted'] = predicted\n",
    "outcome.to_csv(\"outcome.csv\")"
   ]
  },
  {
   "cell_type": "code",
   "execution_count": 26,
   "metadata": {},
   "outputs": [],
   "source": []
  },
  {
   "cell_type": "code",
   "execution_count": null,
   "metadata": {},
   "outputs": [],
   "source": []
  },
  {
   "cell_type": "code",
   "execution_count": null,
   "metadata": {
    "collapsed": true
   },
   "outputs": [],
   "source": []
  }
 ],
 "metadata": {
  "kernelspec": {
   "display_name": "Python 2",
   "language": "python",
   "name": "python2"
  },
  "language_info": {
   "codemirror_mode": {
    "name": "ipython",
    "version": 2
   },
   "file_extension": ".py",
   "mimetype": "text/x-python",
   "name": "python",
   "nbconvert_exporter": "python",
   "pygments_lexer": "ipython2",
   "version": "2.7.10"
  }
 },
 "nbformat": 4,
 "nbformat_minor": 2
}
